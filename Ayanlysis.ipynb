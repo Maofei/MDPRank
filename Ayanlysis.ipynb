{
 "cells": [
  {
   "cell_type": "code",
   "execution_count": 13,
   "metadata": {
    "collapsed": false
   },
   "outputs": [
    {
     "name": "stdout",
     "output_type": "stream",
     "text": [
      "localhost.localdomain\n127.0.0.1\n"
     ]
    }
   ],
   "source": [
    "import socket\n",
    "hostname = socket.gethostname()\n",
    "print hostname\n",
    "\n",
    "\n",
    "localIP = socket.gethostbyname(socket.gethostname())\n",
    "print localIP"
   ]
  },
  {
   "cell_type": "code",
   "execution_count": null,
   "metadata": {
    "collapsed": false
   },
   "outputs": [
    {
     "name": "stdout",
     "output_type": "stream",
     "text": [
      "local ip:127.0.0.1 \nexternal IP:localhost\nexternal IP:['localhost.localdomain', 'localhost4', 'localhost4.localdomain4', 'localhost.localdomain', 'localhost6', 'localhost6.localdomain6']\nexternal IP:['127.0.0.1', '127.0.0.1']\n"
     ]
    }
   ],
   "source": [
    "localIP = socket.gethostbyname(socket.gethostname())\n",
    "print \"local ip:%s \"%localIP\n",
    "ipList = socket.gethostbyname_ex(socket.gethostname())\n",
    "for i in ipList:\n",
    "    if i != localIP:\n",
    "       print \"external IP:%s\"%i"
   ]
  },
  {
   "cell_type": "code",
   "execution_count": 12,
   "metadata": {},
   "outputs": [
    {
     "ename": "SyntaxError",
     "evalue": "invalid syntax (<ipython-input-12-dbfab2715363>, line 9)",
     "traceback": [
      "\u001b[0;36m  File \u001b[0;32m\"<ipython-input-12-dbfab2715363>\"\u001b[0;36m, line \u001b[0;32m9\u001b[0m\n\u001b[0;31m    return socket.inet_ntoa(fcntl.ioctl(s.fileno(), 0X8915, struct.pack(‘256s’, ethname[:15]))[20:24])\u001b[0m\n\u001b[0m                                                                        ^\u001b[0m\n\u001b[0;31mSyntaxError\u001b[0m\u001b[0;31m:\u001b[0m invalid syntax\n"
     ],
     "output_type": "error"
    }
   ],
   "source": [
    "import socket \n",
    "import struct \n",
    "import fcntl \n",
    "  \n",
    "def getip(ethname): \n",
    "  \n",
    "    s=socket.socket(socket.AF_INET, socket.SOCK_DGRAM) \n",
    "  \n",
    "    return socket.inet_ntoa(fcntl.ioctl(s.fileno(), 0X8915, struct.pack(‘256s’, ethname[:15]))[20:24]) \n",
    "  \n",
    "    \n",
    "    print getip(‘eth0’)"
   ]
  },
  {
   "cell_type": "code",
   "execution_count": 3,
   "metadata": {},
   "outputs": [
    {
     "data": {
      "text/plain": [
       "'/home/zengwei/venv/lib/python2.7/site-packages/ipykernel/__main__.py'"
      ]
     },
     "execution_count": 3,
     "metadata": {},
     "output_type": "execute_result"
    }
   ],
   "source": [
    "sys.argv[0]"
   ]
  },
  {
   "cell_type": "code",
   "execution_count": 4,
   "metadata": {},
   "outputs": [
    {
     "data": {
      "text/plain": [
       "'/home/zengwei'"
      ]
     },
     "execution_count": 4,
     "metadata": {},
     "output_type": "execute_result"
    }
   ],
   "source": [
    "import os\n",
    "os.getcwd()"
   ]
  },
  {
   "cell_type": "code",
   "execution_count": null,
   "metadata": {},
   "outputs": [],
   "source": [
    ""
   ]
  }
 ],
 "metadata": {
  "kernelspec": {
   "display_name": "Python 2",
   "language": "python",
   "name": "python2"
  },
  "language_info": {
   "codemirror_mode": {
    "name": "ipython",
    "version": 2.0
   },
   "file_extension": ".py",
   "mimetype": "text/x-python",
   "name": "python",
   "nbconvert_exporter": "python",
   "pygments_lexer": "ipython2",
   "version": "2.7.6"
  }
 },
 "nbformat": 4,
 "nbformat_minor": 0
}